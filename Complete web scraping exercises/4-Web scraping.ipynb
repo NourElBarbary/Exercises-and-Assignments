{
 "cells": [
  {
   "cell_type": "markdown",
   "metadata": {},
   "source": [
    "# Scraping the web with BeautifulSoup\n",
    "\n",
    "We are going to get information out of websites using `requests` and `beautifulsoup`.\n",
    "\n",
    "## Installation\n",
    "\n",
    "With conda, you can install the required dependencies with:\n",
    "\n",
    "```bash\n",
    "conda install beautifulsoup4 requests\n",
    "```\n",
    "\n",
    "or\n",
    "\n",
    "```bash\n",
    "python3 -m pip install beautifulsoup4 requests\n",
    "```\n"
   ]
  },
  {
   "cell_type": "markdown",
   "metadata": {},
   "source": [
    "## Basic usage of BeautifulSoup"
   ]
  },
  {
   "cell_type": "markdown",
   "metadata": {},
   "source": [
    "First, we import the `BeatifulSoup` class:"
   ]
  },
  {
   "cell_type": "code",
   "execution_count": 1,
   "metadata": {},
   "outputs": [],
   "source": [
    "from bs4 import BeautifulSoup"
   ]
  },
  {
   "cell_type": "markdown",
   "metadata": {},
   "source": [
    "We load the html source file from disk and pass the contents to the BeautifulSoup constructor."
   ]
  },
  {
   "cell_type": "code",
   "execution_count": 2,
   "metadata": {},
   "outputs": [
    {
     "name": "stdout",
     "output_type": "stream",
     "text": [
      "<!doctype html>\n",
      "<html>\n",
      "  <head>\n",
      "    <title>Sample HTML document</title>\n",
      "  </head>\n",
      "  <body>\n",
      "    <h2>An Unordered HTML List</h2>\n",
      "\n",
      "    <ul id=\"unordered_list\" style=\"color: #f0e\">\n",
      "      <li>Coffee</li>\n",
      "      <li>Tea</li>\n",
      "      <li>Milk</li>\n",
      "    </ul>\n",
      "\n",
      "    <h2>An Ordered HTML List</h2>\n",
      "\n",
      "    <ol id=\"ordered_list\" style=\"color: rgb(20, 200, 100)\">\n",
      "      <li>First</li>\n",
      "      <li>Second</li>\n",
      "      <li>Third</li>\n",
      "    </ol>\n",
      "  </body>\n",
      "</html>\n"
     ]
    }
   ],
   "source": [
    "with open(\"list.html\") as f:\n",
    "    html = f.read()\n",
    "    document = BeautifulSoup(html, \"html.parser\")\n",
    "print(html)"
   ]
  },
  {
   "cell_type": "code",
   "execution_count": 3,
   "metadata": {},
   "outputs": [
    {
     "data": {
      "text/html": [
       "<!doctype html>\n",
       "<html>\n",
       "  <head>\n",
       "    <title>Sample HTML document</title>\n",
       "  </head>\n",
       "  <body>\n",
       "    <h2>An Unordered HTML List</h2>\n",
       "\n",
       "    <ul id=\"unordered_list\" style=\"color: #f0e\">\n",
       "      <li>Coffee</li>\n",
       "      <li>Tea</li>\n",
       "      <li>Milk</li>\n",
       "    </ul>\n",
       "\n",
       "    <h2>An Ordered HTML List</h2>\n",
       "\n",
       "    <ol id=\"ordered_list\" style=\"color: rgb(20, 200, 100)\">\n",
       "      <li>First</li>\n",
       "      <li>Second</li>\n",
       "      <li>Third</li>\n",
       "    </ol>\n",
       "  </body>\n",
       "</html>"
      ],
      "text/plain": [
       "<IPython.core.display.HTML object>"
      ]
     },
     "execution_count": 3,
     "metadata": {},
     "output_type": "execute_result"
    }
   ],
   "source": [
    "from IPython.display import HTML\n",
    "\n",
    "HTML(html)"
   ]
  },
  {
   "cell_type": "markdown",
   "metadata": {},
   "source": [
    "### Finding tags by name\n",
    "\n",
    "The document now contains the full html document. We can find the first occuring tag with a specific name with the `find` function. Let's find the first un-ordered list tag:"
   ]
  },
  {
   "cell_type": "code",
   "execution_count": 4,
   "metadata": {},
   "outputs": [],
   "source": [
    "ulist = document.find(\"ul\")"
   ]
  },
  {
   "cell_type": "markdown",
   "metadata": {},
   "source": [
    "The result contains all tags contained in the matched tag:"
   ]
  },
  {
   "cell_type": "code",
   "execution_count": 5,
   "metadata": {},
   "outputs": [
    {
     "data": {
      "text/plain": [
       "<ul id=\"unordered_list\" style=\"color: #f0e\">\n",
       "<li>Coffee</li>\n",
       "<li>Tea</li>\n",
       "<li>Milk</li>\n",
       "</ul>"
      ]
     },
     "execution_count": 5,
     "metadata": {},
     "output_type": "execute_result"
    }
   ],
   "source": [
    "ulist"
   ]
  },
  {
   "cell_type": "markdown",
   "metadata": {},
   "source": [
    "The `find_all` function returns **all** tags that match the given tag name. We can use it to get a list of all list items:"
   ]
  },
  {
   "cell_type": "code",
   "execution_count": 6,
   "metadata": {},
   "outputs": [
    {
     "data": {
      "text/plain": [
       "[<li>Coffee</li>, <li>Tea</li>, <li>Milk</li>]"
      ]
     },
     "execution_count": 6,
     "metadata": {},
     "output_type": "execute_result"
    }
   ],
   "source": [
    "items = ulist.find_all(\"li\")\n",
    "items"
   ]
  },
  {
   "cell_type": "markdown",
   "metadata": {},
   "source": [
    "Finally, we can loop over all items and extract their contant with the `get_text` function:"
   ]
  },
  {
   "cell_type": "code",
   "execution_count": 7,
   "metadata": {
    "tags": []
   },
   "outputs": [
    {
     "name": "stdout",
     "output_type": "stream",
     "text": [
      "'Coffee'\n",
      "'Tea'\n",
      "'Milk'\n"
     ]
    }
   ],
   "source": [
    "for item in items:\n",
    "    print(repr(item.get_text()))"
   ]
  },
  {
   "cell_type": "markdown",
   "metadata": {},
   "source": [
    "Because whitespace is not meaningful in HTML,\n",
    "it is often useful to strip it when you are getting the content of a tag.\n",
    "You can do this with `strip=True`"
   ]
  },
  {
   "cell_type": "code",
   "execution_count": 8,
   "metadata": {},
   "outputs": [
    {
     "name": "stdout",
     "output_type": "stream",
     "text": [
      "'Coffee'\n",
      "'Tea'\n",
      "'Milk'\n"
     ]
    }
   ],
   "source": [
    "for item in items:\n",
    "    print(repr(item.get_text(strip=True)))"
   ]
  },
  {
   "cell_type": "markdown",
   "metadata": {},
   "source": [
    "Note that `find_all` is **recursive** by default. This means that we could call it the on the full `document` to get the items\n",
    "of both the ordered and un-ordered lists:"
   ]
  },
  {
   "cell_type": "code",
   "execution_count": 9,
   "metadata": {},
   "outputs": [
    {
     "data": {
      "text/plain": [
       "[<li>Coffee</li>,\n",
       " <li>Tea</li>,\n",
       " <li>Milk</li>,\n",
       " <li>First</li>,\n",
       " <li>Second</li>,\n",
       " <li>Third</li>]"
      ]
     },
     "execution_count": 9,
     "metadata": {},
     "output_type": "execute_result"
    }
   ],
   "source": [
    "document.find_all(\"li\")"
   ]
  },
  {
   "cell_type": "code",
   "execution_count": 10,
   "metadata": {},
   "outputs": [
    {
     "data": {
      "text/plain": [
       "[]"
      ]
     },
     "execution_count": 10,
     "metadata": {},
     "output_type": "execute_result"
    }
   ],
   "source": [
    "document.find_all(\"li\", recursive=False)"
   ]
  },
  {
   "cell_type": "code",
   "execution_count": 11,
   "metadata": {},
   "outputs": [
    {
     "data": {
      "text/plain": [
       "[<li>Coffee</li>, <li>Tea</li>, <li>Milk</li>]"
      ]
     },
     "execution_count": 11,
     "metadata": {},
     "output_type": "execute_result"
    }
   ],
   "source": [
    "ulist.find_all(\"li\", recursive=False)"
   ]
  },
  {
   "cell_type": "markdown",
   "metadata": {},
   "source": [
    "A recursive search finds all `li` tags anywhere."
   ]
  },
  {
   "cell_type": "code",
   "execution_count": 12,
   "metadata": {},
   "outputs": [
    {
     "data": {
      "text/plain": [
       "[<li>Coffee</li>,\n",
       " <li>Tea</li>,\n",
       " <li>Milk</li>,\n",
       " <li>First</li>,\n",
       " <li>Second</li>,\n",
       " <li>Third</li>]"
      ]
     },
     "execution_count": 12,
     "metadata": {},
     "output_type": "execute_result"
    }
   ],
   "source": [
    "document.find_all(\"li\")"
   ]
  },
  {
   "cell_type": "markdown",
   "metadata": {},
   "source": [
    "### Finding tags by attributes"
   ]
  },
  {
   "cell_type": "markdown",
   "metadata": {},
   "source": [
    "Sometimes the easiest way to find a tag is by its attribute name. In our examples, both lists have an `id` attribute that uniquely identifies the tables. We can also use the `find*` methods to search for attributes:\n"
   ]
  },
  {
   "cell_type": "code",
   "execution_count": 13,
   "metadata": {},
   "outputs": [
    {
     "data": {
      "text/plain": [
       "<ul id=\"unordered_list\" style=\"color: #f0e\">\n",
       "<li>Coffee</li>\n",
       "<li>Tea</li>\n",
       "<li>Milk</li>\n",
       "</ul>"
      ]
     },
     "execution_count": 13,
     "metadata": {},
     "output_type": "execute_result"
    }
   ],
   "source": [
    "document.find(attrs={\"id\": \"unordered_list\"})"
   ]
  },
  {
   "cell_type": "markdown",
   "metadata": {},
   "source": [
    "### Accessing attributes\n",
    "\n",
    "The `ul` tag also contains a `style` attribute. Any bs4 tag behaves like a dictionary with attribute names as keys and attribute values as values:"
   ]
  },
  {
   "cell_type": "code",
   "execution_count": 14,
   "metadata": {},
   "outputs": [
    {
     "data": {
      "text/plain": [
       "{'id': 'unordered_list', 'style': 'color: #f0e'}"
      ]
     },
     "execution_count": 14,
     "metadata": {},
     "output_type": "execute_result"
    }
   ],
   "source": [
    "ulist.attrs"
   ]
  },
  {
   "cell_type": "code",
   "execution_count": 15,
   "metadata": {},
   "outputs": [
    {
     "data": {
      "text/plain": [
       "'color: #f0e'"
      ]
     },
     "execution_count": 15,
     "metadata": {},
     "output_type": "execute_result"
    }
   ],
   "source": [
    "ulist[\"style\"]"
   ]
  },
  {
   "cell_type": "markdown",
   "metadata": {},
   "source": [
    "## Downloading a table from Wikipedia\n",
    "\n",
    "We aim to get a list of countries sorted by their population size:\n",
    "https://en.wikipedia.org/wiki/List_of_countries_and_dependencies_by_population\n",
    "\n",
    "First, let's import the required modules:"
   ]
  },
  {
   "cell_type": "code",
   "execution_count": 16,
   "metadata": {},
   "outputs": [],
   "source": [
    "import re\n",
    "\n",
    "import dateutil\n",
    "import requests\n",
    "from bs4 import BeautifulSoup"
   ]
  },
  {
   "cell_type": "markdown",
   "metadata": {},
   "source": [
    "This time, we load the html directly from a website using the requests module:"
   ]
  },
  {
   "cell_type": "code",
   "execution_count": 17,
   "metadata": {},
   "outputs": [
    {
     "data": {
      "text/plain": [
       "'https://en.wikipedia.org/wiki/List_of_countries_and_dependencies_by_population'"
      ]
     },
     "execution_count": 17,
     "metadata": {},
     "output_type": "execute_result"
    }
   ],
   "source": [
    "url = \"https://en.wikipedia.org/wiki/List_of_countries_and_dependencies_by_population\"\n",
    "\n",
    "r = requests.get(url)\n",
    "url"
   ]
  },
  {
   "cell_type": "markdown",
   "metadata": {},
   "source": [
    "The web server returns a status code to indicate if the request was (un-)succesfully.\n",
    "We use that status-code to check if the page was succesfully loaded:"
   ]
  },
  {
   "cell_type": "code",
   "execution_count": 18,
   "metadata": {},
   "outputs": [],
   "source": [
    "assert r.status_code == 200"
   ]
  },
  {
   "cell_type": "markdown",
   "metadata": {},
   "source": [
    "Next, we extract the html source and initiated BeautifulSoup:"
   ]
  },
  {
   "cell_type": "code",
   "execution_count": 19,
   "metadata": {},
   "outputs": [],
   "source": [
    "html = r.text\n",
    "document = BeautifulSoup(html, \"html.parser\")"
   ]
  },
  {
   "cell_type": "markdown",
   "metadata": {},
   "source": [
    "by looking at the document, we can see that we are interested in first table. So we use `find`:"
   ]
  },
  {
   "cell_type": "code",
   "execution_count": 20,
   "metadata": {},
   "outputs": [],
   "source": [
    "table = document.find(\"table\", class_=\"wikitable\")"
   ]
  },
  {
   "cell_type": "markdown",
   "metadata": {},
   "source": [
    "If you are not familiar with html table, read this example first: https://www.w3schools.com/html/tryit.asp?filename=tryhtml_table_intro"
   ]
  },
  {
   "cell_type": "code",
   "execution_count": 21,
   "metadata": {},
   "outputs": [
    {
     "name": "stdout",
     "output_type": "stream",
     "text": [
      "<table class=\"wikitable sortable sticky-header sort-under mw-datatable col2left col6left\" style=\"text-align:right\">\n",
      "<caption>List of countries and territories by total population\n",
      "</caption>\n",
      "<tbody><tr>\n",
      "<th>\n",
      "</th>\n",
      "<th>Location\n",
      "</th>\n",
      "<th>Population\n",
      "</th>\n",
      "<th style=\"width:2em\">% of<br/>world\n",
      "</th>\n",
      "<th>Date\n",
      "</th>\n",
      "<th><span class=\"nowrap\">Source (official or from</span><br/>the <a href=\"/wiki/United_Nations\" title=\"United Nations\">United Nations</a>)\n",
      "</th>\n",
      "<th class=\"unsortable\">Notes\n",
      "</th></tr>\n",
      "<tr>\n",
      "<td>-\n",
      "</td>\n",
      "<td><b><span class=\"flagicon\" style=\"padding-left:25px;\"> </span>World</b>\n",
      "</td>\n",
      "<td>8,119,000,000</td>\n",
      "<td><div class=\"center\" style=\"width:auto; margin-left:auto; margin-right:auto;\">100%</div></td>\n",
      "<td><span data-sort-value=\"000000002024-07-01-0000\" style=\"white-space:nowrap\">1 Jul 2024</span>\n",
      "</td>\n",
      "<td>UN projection<sup class=\"reference\" id=\"cite_ref-UNFPA_1-1\"><a href=\"#cite_note-UNFPA-1\"><span class=\"cite-bracket\">[</span>1<span class=\"cite-bracket\">]</span></a></sup><sup class=\"reference\" id=\"cite_r\n"
     ]
    }
   ],
   "source": [
    "print(str(table)[:1024])"
   ]
  },
  {
   "cell_type": "markdown",
   "metadata": {},
   "source": [
    "At this point, it is a good idea to programatically check that the table contains the correct header:"
   ]
  },
  {
   "cell_type": "code",
   "execution_count": 22,
   "metadata": {},
   "outputs": [
    {
     "data": {
      "text/plain": [
       "' Location Population % ofworld Date Source (official or fromtheUnited Nations) Notes'"
      ]
     },
     "execution_count": 22,
     "metadata": {},
     "output_type": "execute_result"
    }
   ],
   "source": [
    "header = \" \".join([th.get_text(strip=True) for th in table.find_all(\"th\")])\n",
    "assert \"Population\" in header\n",
    "header"
   ]
  },
  {
   "cell_type": "markdown",
   "metadata": {},
   "source": [
    "### Exercise\n",
    "\n",
    "extract the information from the table\n",
    "\n",
    "- get the rows\n",
    "- find column names\n",
    "- get sensible data from each cell\n",
    "- parse numbers/dates where they show up\n",
    "  "
   ]
  },
  {
   "cell_type": "code",
   "execution_count": 23,
   "metadata": {},
   "outputs": [],
   "source": [
    "rows = table.find_all(\"tr\")"
   ]
  },
  {
   "cell_type": "code",
   "execution_count": 24,
   "metadata": {},
   "outputs": [
    {
     "data": {
      "text/plain": [
       "<tr>\n",
       "<th>\n",
       "</th>\n",
       "<th>Location\n",
       "</th>\n",
       "<th>Population\n",
       "</th>\n",
       "<th style=\"width:2em\">% of<br/>world\n",
       "</th>\n",
       "<th>Date\n",
       "</th>\n",
       "<th><span class=\"nowrap\">Source (official or from</span><br/>the <a href=\"/wiki/United_Nations\" title=\"United Nations\">United Nations</a>)\n",
       "</th>\n",
       "<th class=\"unsortable\">Notes\n",
       "</th></tr>"
      ]
     },
     "execution_count": 24,
     "metadata": {},
     "output_type": "execute_result"
    }
   ],
   "source": [
    "rows[0]"
   ]
  },
  {
   "cell_type": "code",
   "execution_count": 25,
   "metadata": {},
   "outputs": [
    {
     "data": {
      "text/plain": [
       "['',\n",
       " 'Location',\n",
       " 'Population',\n",
       " '% ofworld',\n",
       " 'Date',\n",
       " 'Source (official or fromtheUnited Nations)',\n",
       " 'Notes']"
      ]
     },
     "execution_count": 25,
     "metadata": {},
     "output_type": "execute_result"
    }
   ],
   "source": [
    "column_names = [th.get_text(strip=True) for th in rows[0].find_all(\"th\")]\n",
    "column_names"
   ]
  },
  {
   "cell_type": "code",
   "execution_count": 28,
   "metadata": {},
   "outputs": [
    {
     "name": "stdout",
     "output_type": "stream",
     "text": [
      "Rank: 1, Population: 17.2, Percentage: 0.525, Updated At: 2024-12-05\n"
     ]
    }
   ],
   "source": [
    "import re\n",
    "import dateutil.parser\n",
    "\n",
    "# Example string values\n",
    "rank = \"1\"\n",
    "population = \"17.2%\"\n",
    "percentage = \"52.5%\"\n",
    "updated_at = \"2024-12-05\"\n",
    "\n",
    "# Safely process the population string\n",
    "try:\n",
    "    population = float(population.replace(\"%\", \"\"))  # Remove the % symbol and convert to float\n",
    "except ValueError:\n",
    "    print(f\"Invalid population value: {population}\")\n",
    "\n",
    "# Process other fields\n",
    "percentage = float(re.findall(r\"[\\d\\.]+\", percentage)[0]) / 100  # Convert percentage to decimal\n",
    "updated_at = dateutil.parser.parse(updated_at).date()  # Convert to date\n",
    "\n",
    "# Print the results\n",
    "print(f\"Rank: {rank}, Population: {population}, Percentage: {percentage}, Updated At: {updated_at}\")\n"
   ]
  },
  {
   "cell_type": "markdown",
   "metadata": {},
   "source": [
    "**Attention**: Beautiful Soup does not execute Javascript. This means that you the code in your browser inspector might look a bit different from the original HTML source code. "
   ]
  },
  {
   "cell_type": "markdown",
   "metadata": {
    "tags": []
   },
   "source": [
    "# Another example of downloading a Wikipedia table \n",
    "\n",
    "Let's consider another table in a Wikipedia page. This page has a lot more tables, so one challenge will be to pick the right table\n",
    "\n",
    "https://en.wikipedia.org/wiki/Serena_Williams\n",
    "\n",
    "\n",
    "We are interested in extracting these two tables:\n",
    "\n",
    "![Target Wikipedia tables](figs/wiki_tables.png)\n",
    "\n",
    "**Exercise**: \n",
    "\n",
    "Find the tables on a page by locating heading and using `.find_next()`\n"
   ]
  },
  {
   "cell_type": "markdown",
   "metadata": {},
   "source": [
    "We begin by downloading the webpage and instatiating the BeautifulSoup object:"
   ]
  },
  {
   "cell_type": "code",
   "execution_count": 29,
   "metadata": {},
   "outputs": [],
   "source": [
    "r = requests.get(\"https://en.wikipedia.org/wiki/Serena_Williams\")\n",
    "document = BeautifulSoup(r.text, \"html.parser\")"
   ]
  },
  {
   "cell_type": "markdown",
   "metadata": {},
   "source": [
    "This page contains a lot of tables without specific attributes that would make it easy to find our table of interest. Further, the same headings of the tables are used for multiple tables, making it difficult to find a table just by its headings:"
   ]
  },
  {
   "cell_type": "code",
   "execution_count": 30,
   "metadata": {},
   "outputs": [
    {
     "data": {
      "text/plain": [
       "74"
      ]
     },
     "execution_count": 30,
     "metadata": {},
     "output_type": "execute_result"
    }
   ],
   "source": [
    "len(document.find_all(\"table\"))"
   ]
  },
  {
   "cell_type": "markdown",
   "metadata": {},
   "source": [
    "Therefore, we choose another strategy.\n",
    "\n",
    "First, we find the tag with class `mw-headling` whose `string` content _starts with_ `Singles`.\n",
    "Then we find the _next_ table using `heading_element.find_next(...)`:"
   ]
  },
  {
   "cell_type": "code",
   "execution_count": 31,
   "metadata": {},
   "outputs": [
    {
     "data": {
      "text/plain": [
       "[]"
      ]
     },
     "execution_count": 31,
     "metadata": {},
     "output_type": "execute_result"
    }
   ],
   "source": [
    "document.find_all(class_=\"mw-headline\", string=re.compile(\"^Singles\"))"
   ]
  },
  {
   "cell_type": "code",
   "execution_count": 32,
   "metadata": {},
   "outputs": [],
   "source": [
    "# string class\n",
    "singles_heading = document.find(class_=\"mw-headline\", string=re.compile(\"^Singles\"))\n",
    "singles_heading"
   ]
  },
  {
   "cell_type": "code",
   "execution_count": 34,
   "metadata": {
    "scrolled": true,
    "tags": []
   },
   "outputs": [
    {
     "name": "stdout",
     "output_type": "stream",
     "text": [
      "Error: The specified heading or element was not found.\n"
     ]
    }
   ],
   "source": [
    "import requests\n",
    "from bs4 import BeautifulSoup\n",
    "\n",
    "# Fetch the Wikipedia page\n",
    "r = requests.get(\"https://en.wikipedia.org/wiki/Serena_Williams\")\n",
    "document = BeautifulSoup(r.text, \"html.parser\")\n",
    "\n",
    "# Example: Searching for an 'h2' heading\n",
    "singles_heading = document.find(\"span\", id=\"Singles_titles\")\n",
    "\n",
    "if singles_heading:\n",
    "    # Find the next element after the heading\n",
    "    next_element = singles_heading.find_next()\n",
    "    print(next_element)\n",
    "else:\n",
    "    print(\"Error: The specified heading or element was not found.\")\n"
   ]
  },
  {
   "cell_type": "markdown",
   "metadata": {},
   "source": [
    "Now, our tables of interest are the first two result tables for \"Singles\" and \"Women's doubles\". We write a small helper function that returns a table with a given heading:"
   ]
  },
  {
   "cell_type": "code",
   "execution_count": 35,
   "metadata": {},
   "outputs": [],
   "source": [
    "def find_table_with_heading(document, heading_pat):\n",
    "    heading_element = document.find(class_=\"mw-headline\", string=heading_pat)\n",
    "    table = heading_element.find_next(\"table\")\n",
    "    return table"
   ]
  },
  {
   "cell_type": "code",
   "execution_count": 36,
   "metadata": {
    "collapsed": true,
    "jupyter": {
     "outputs_hidden": true
    },
    "scrolled": true
   },
   "outputs": [
    {
     "ename": "AttributeError",
     "evalue": "'NoneType' object has no attribute 'find_next'",
     "output_type": "error",
     "traceback": [
      "\u001b[0;31m---------------------------------------------------------------------------\u001b[0m",
      "\u001b[0;31mAttributeError\u001b[0m                            Traceback (most recent call last)",
      "Cell \u001b[0;32mIn[36], line 1\u001b[0m\n\u001b[0;32m----> 1\u001b[0m singles_table \u001b[38;5;241m=\u001b[39m find_table_with_heading(document, re\u001b[38;5;241m.\u001b[39mcompile(\u001b[38;5;124m\"\u001b[39m\u001b[38;5;124m^Singles\u001b[39m\u001b[38;5;124m\"\u001b[39m))\n\u001b[1;32m      2\u001b[0m \u001b[38;5;66;03m# print headers\u001b[39;00m\n\u001b[1;32m      3\u001b[0m headings \u001b[38;5;241m=\u001b[39m singles_table\u001b[38;5;241m.\u001b[39mfind_all(\u001b[38;5;124m\"\u001b[39m\u001b[38;5;124mth\u001b[39m\u001b[38;5;124m\"\u001b[39m)\n",
      "Cell \u001b[0;32mIn[35], line 3\u001b[0m, in \u001b[0;36mfind_table_with_heading\u001b[0;34m(document, heading_pat)\u001b[0m\n\u001b[1;32m      1\u001b[0m \u001b[38;5;28;01mdef\u001b[39;00m \u001b[38;5;21mfind_table_with_heading\u001b[39m(document, heading_pat):\n\u001b[1;32m      2\u001b[0m     heading_element \u001b[38;5;241m=\u001b[39m document\u001b[38;5;241m.\u001b[39mfind(class_\u001b[38;5;241m=\u001b[39m\u001b[38;5;124m\"\u001b[39m\u001b[38;5;124mmw-headline\u001b[39m\u001b[38;5;124m\"\u001b[39m, string\u001b[38;5;241m=\u001b[39mheading_pat)\n\u001b[0;32m----> 3\u001b[0m     table \u001b[38;5;241m=\u001b[39m heading_element\u001b[38;5;241m.\u001b[39mfind_next(\u001b[38;5;124m\"\u001b[39m\u001b[38;5;124mtable\u001b[39m\u001b[38;5;124m\"\u001b[39m)\n\u001b[1;32m      4\u001b[0m     \u001b[38;5;28;01mreturn\u001b[39;00m table\n",
      "\u001b[0;31mAttributeError\u001b[0m: 'NoneType' object has no attribute 'find_next'"
     ]
    }
   ],
   "source": [
    "singles_table = find_table_with_heading(document, re.compile(\"^Singles\"))\n",
    "# print headers\n",
    "headings = singles_table.find_all(\"th\")\n",
    "[th.get_text(strip=True) for th in headings]"
   ]
  },
  {
   "cell_type": "markdown",
   "metadata": {},
   "source": [
    "Next, we can find the table after the heading \"Women's doubles\""
   ]
  },
  {
   "cell_type": "code",
   "execution_count": 37,
   "metadata": {
    "collapsed": true,
    "jupyter": {
     "outputs_hidden": true
    }
   },
   "outputs": [
    {
     "ename": "AttributeError",
     "evalue": "'NoneType' object has no attribute 'find_next'",
     "output_type": "error",
     "traceback": [
      "\u001b[0;31m---------------------------------------------------------------------------\u001b[0m",
      "\u001b[0;31mAttributeError\u001b[0m                            Traceback (most recent call last)",
      "Cell \u001b[0;32mIn[37], line 1\u001b[0m\n\u001b[0;32m----> 1\u001b[0m doubles_table \u001b[38;5;241m=\u001b[39m find_table_with_heading(document, re\u001b[38;5;241m.\u001b[39mcompile(\u001b[38;5;124mr\u001b[39m\u001b[38;5;124m\"\u001b[39m\u001b[38;5;124m^Women\u001b[39m\u001b[38;5;124m'\u001b[39m\u001b[38;5;124ms doubles\u001b[39m\u001b[38;5;124m\"\u001b[39m))\n\u001b[1;32m      2\u001b[0m \u001b[38;5;66;03m# print headers\u001b[39;00m\n\u001b[1;32m      3\u001b[0m headings \u001b[38;5;241m=\u001b[39m doubles_table\u001b[38;5;241m.\u001b[39mfind_all(\u001b[38;5;124m\"\u001b[39m\u001b[38;5;124mth\u001b[39m\u001b[38;5;124m\"\u001b[39m)\n",
      "Cell \u001b[0;32mIn[35], line 3\u001b[0m, in \u001b[0;36mfind_table_with_heading\u001b[0;34m(document, heading_pat)\u001b[0m\n\u001b[1;32m      1\u001b[0m \u001b[38;5;28;01mdef\u001b[39;00m \u001b[38;5;21mfind_table_with_heading\u001b[39m(document, heading_pat):\n\u001b[1;32m      2\u001b[0m     heading_element \u001b[38;5;241m=\u001b[39m document\u001b[38;5;241m.\u001b[39mfind(class_\u001b[38;5;241m=\u001b[39m\u001b[38;5;124m\"\u001b[39m\u001b[38;5;124mmw-headline\u001b[39m\u001b[38;5;124m\"\u001b[39m, string\u001b[38;5;241m=\u001b[39mheading_pat)\n\u001b[0;32m----> 3\u001b[0m     table \u001b[38;5;241m=\u001b[39m heading_element\u001b[38;5;241m.\u001b[39mfind_next(\u001b[38;5;124m\"\u001b[39m\u001b[38;5;124mtable\u001b[39m\u001b[38;5;124m\"\u001b[39m)\n\u001b[1;32m      4\u001b[0m     \u001b[38;5;28;01mreturn\u001b[39;00m table\n",
      "\u001b[0;31mAttributeError\u001b[0m: 'NoneType' object has no attribute 'find_next'"
     ]
    }
   ],
   "source": [
    "doubles_table = find_table_with_heading(document, re.compile(r\"^Women's doubles\"))\n",
    "# print headers\n",
    "headings = doubles_table.find_all(\"th\")\n",
    "[th.get_text(strip=True) for th in headings]"
   ]
  },
  {
   "cell_type": "markdown",
   "metadata": {},
   "source": [
    "## Exercise:\n",
    "\n",
    "- Iterate through the rows\n",
    "- convert year to integer (or date)\n",
    "- strip note '(12)' from event, so the same event has the same string\n",
    "- load into pandas DataFrame (more on pandas in a later lecture)"
   ]
  },
  {
   "cell_type": "code",
   "execution_count": 38,
   "metadata": {},
   "outputs": [
    {
     "data": {
      "text/plain": [
       "\u001b[0;31mSignature:\u001b[0m \u001b[0mre\u001b[0m\u001b[0;34m.\u001b[0m\u001b[0msub\u001b[0m\u001b[0;34m(\u001b[0m\u001b[0mpattern\u001b[0m\u001b[0;34m,\u001b[0m \u001b[0mrepl\u001b[0m\u001b[0;34m,\u001b[0m \u001b[0mstring\u001b[0m\u001b[0;34m,\u001b[0m \u001b[0mcount\u001b[0m\u001b[0;34m=\u001b[0m\u001b[0;36m0\u001b[0m\u001b[0;34m,\u001b[0m \u001b[0mflags\u001b[0m\u001b[0;34m=\u001b[0m\u001b[0;36m0\u001b[0m\u001b[0;34m)\u001b[0m\u001b[0;34m\u001b[0m\u001b[0;34m\u001b[0m\u001b[0m\n",
       "\u001b[0;31mDocstring:\u001b[0m\n",
       "Return the string obtained by replacing the leftmost\n",
       "non-overlapping occurrences of the pattern in string by the\n",
       "replacement repl.  repl can be either a string or a callable;\n",
       "if a string, backslash escapes in it are processed.  If it is\n",
       "a callable, it's passed the Match object and must return\n",
       "a replacement string to be used.\n",
       "\u001b[0;31mFile:\u001b[0m      /opt/anaconda3/lib/python3.12/re/__init__.py\n",
       "\u001b[0;31mType:\u001b[0m      function"
      ]
     },
     "metadata": {},
     "output_type": "display_data"
    }
   ],
   "source": [
    "re.sub?"
   ]
  },
  {
   "cell_type": "code",
   "execution_count": 39,
   "metadata": {
    "collapsed": true,
    "jupyter": {
     "outputs_hidden": true
    },
    "scrolled": true
   },
   "outputs": [
    {
     "ename": "NameError",
     "evalue": "name 'singles_table' is not defined",
     "output_type": "error",
     "traceback": [
      "\u001b[0;31m---------------------------------------------------------------------------\u001b[0m",
      "\u001b[0;31mNameError\u001b[0m                                 Traceback (most recent call last)",
      "Cell \u001b[0;32mIn[39], line 2\u001b[0m\n\u001b[1;32m      1\u001b[0m data \u001b[38;5;241m=\u001b[39m []\n\u001b[0;32m----> 2\u001b[0m \u001b[38;5;28;01mfor\u001b[39;00m row \u001b[38;5;129;01min\u001b[39;00m singles_table\u001b[38;5;241m.\u001b[39mfind_all(\u001b[38;5;124m\"\u001b[39m\u001b[38;5;124mtr\u001b[39m\u001b[38;5;124m\"\u001b[39m):\n\u001b[1;32m      3\u001b[0m     cells \u001b[38;5;241m=\u001b[39m row\u001b[38;5;241m.\u001b[39mfind_all(\u001b[38;5;124m\"\u001b[39m\u001b[38;5;124mtd\u001b[39m\u001b[38;5;124m\"\u001b[39m)\n\u001b[1;32m      4\u001b[0m     \u001b[38;5;28;01mif\u001b[39;00m \u001b[38;5;129;01mnot\u001b[39;00m cells:\n",
      "\u001b[0;31mNameError\u001b[0m: name 'singles_table' is not defined"
     ]
    }
   ],
   "source": [
    "data = []\n",
    "for row in singles_table.find_all(\"tr\"):\n",
    "    cells = row.find_all(\"td\")\n",
    "    if not cells:\n",
    "        continue\n",
    "    values = [cell.get_text(strip=True) for cell in cells]\n",
    "    values[1] = int(values[1])\n",
    "    values[2] = re.sub(r\"\\s*\\(.+\\)\", \"\", values[2])\n",
    "    print(values)\n",
    "    data.append(values)"
   ]
  },
  {
   "cell_type": "markdown",
   "metadata": {},
   "source": [
    "When data is in this form, we can convert it into a DataFrame with pandas.\n",
    "\n",
    "You'll learn more about pandas next week."
   ]
  },
  {
   "cell_type": "code",
   "execution_count": 40,
   "metadata": {
    "collapsed": true,
    "jupyter": {
     "outputs_hidden": true
    }
   },
   "outputs": [
    {
     "ename": "NameError",
     "evalue": "name 'singles_table' is not defined",
     "output_type": "error",
     "traceback": [
      "\u001b[0;31m---------------------------------------------------------------------------\u001b[0m",
      "\u001b[0;31mNameError\u001b[0m                                 Traceback (most recent call last)",
      "Cell \u001b[0;32mIn[40], line 3\u001b[0m\n\u001b[1;32m      1\u001b[0m \u001b[38;5;28;01mimport\u001b[39;00m \u001b[38;5;21;01mpandas\u001b[39;00m \u001b[38;5;28;01mas\u001b[39;00m \u001b[38;5;21;01mpd\u001b[39;00m\n\u001b[0;32m----> 3\u001b[0m headings \u001b[38;5;241m=\u001b[39m [th\u001b[38;5;241m.\u001b[39mget_text(strip\u001b[38;5;241m=\u001b[39m\u001b[38;5;28;01mTrue\u001b[39;00m) \u001b[38;5;28;01mfor\u001b[39;00m th \u001b[38;5;129;01min\u001b[39;00m singles_table\u001b[38;5;241m.\u001b[39mfind_all(\u001b[38;5;124m\"\u001b[39m\u001b[38;5;124mth\u001b[39m\u001b[38;5;124m\"\u001b[39m)]\n\u001b[1;32m      4\u001b[0m df \u001b[38;5;241m=\u001b[39m pd\u001b[38;5;241m.\u001b[39mDataFrame(data, columns\u001b[38;5;241m=\u001b[39mheadings)\n\u001b[1;32m      5\u001b[0m df\n",
      "\u001b[0;31mNameError\u001b[0m: name 'singles_table' is not defined"
     ]
    }
   ],
   "source": [
    "import pandas as pd\n",
    "\n",
    "headings = [th.get_text(strip=True) for th in singles_table.find_all(\"th\")]\n",
    "df = pd.DataFrame(data, columns=headings)\n",
    "df"
   ]
  },
  {
   "cell_type": "markdown",
   "metadata": {},
   "source": [
    "With pandas, we can filter this data, group it, and plot interesting relationships.\n",
    "\n",
    "Pandas `groupby` is an interesting operation for performing aggregations,\n",
    "e.g. counting the wins/losses by year and result:"
   ]
  },
  {
   "cell_type": "code",
   "execution_count": null,
   "metadata": {},
   "outputs": [],
   "source": [
    "df.Result.value_counts()"
   ]
  },
  {
   "cell_type": "code",
   "execution_count": null,
   "metadata": {},
   "outputs": [],
   "source": [
    "results_by_year = df.groupby([\"Year\", \"Result\"]).Tournament.count().unstack().fillna(0)\n",
    "results_by_year"
   ]
  },
  {
   "cell_type": "markdown",
   "metadata": {},
   "source": [
    "Which we can now plot"
   ]
  },
  {
   "cell_type": "code",
   "execution_count": null,
   "metadata": {},
   "outputs": [],
   "source": [
    "results_by_year.plot(kind=\"bar\", grid=False)"
   ]
  },
  {
   "cell_type": "markdown",
   "metadata": {},
   "source": [
    "Is there any significance to the court?"
   ]
  },
  {
   "cell_type": "code",
   "execution_count": null,
   "metadata": {},
   "outputs": [],
   "source": [
    "results_by_surface = df.groupby([\"Surface\", \"Result\"]).Tournament.count().unstack()\n",
    "results_by_surface"
   ]
  },
  {
   "cell_type": "code",
   "execution_count": null,
   "metadata": {},
   "outputs": [],
   "source": [
    "results_by_surface.plot(kind=\"bar\")"
   ]
  },
  {
   "cell_type": "markdown",
   "metadata": {},
   "source": [
    "We can even filter to e.g. select opponents who Williams faced at least twice"
   ]
  },
  {
   "cell_type": "code",
   "execution_count": null,
   "metadata": {},
   "outputs": [],
   "source": [
    "results_by_op = df.groupby([\"Opponents\", \"Result\"]).Tournament.count().unstack()\n",
    "results_by_op"
   ]
  },
  {
   "cell_type": "code",
   "execution_count": null,
   "metadata": {},
   "outputs": [],
   "source": [
    "# we can exclude opponents only met once:\n",
    "results_by_op = results_by_op.fillna(0)\n",
    "results_by_op"
   ]
  },
  {
   "cell_type": "code",
   "execution_count": null,
   "metadata": {},
   "outputs": [],
   "source": [
    "(results_by_op.Win + results_by_op.Loss) > 1"
   ]
  },
  {
   "cell_type": "code",
   "execution_count": null,
   "metadata": {},
   "outputs": [],
   "source": [
    "multiple_meetings = results_by_op[(results_by_op.Win + results_by_op.Loss) > 1]\n",
    "multiple_meetings.plot(kind=\"bar\")"
   ]
  },
  {
   "cell_type": "markdown",
   "metadata": {},
   "source": [
    "# Exercise:\n",
    "\n",
    "Find images on the UiO page\n",
    "\n",
    "1) Go to https://en.wikipedia.org/wiki/University_of_Oslo \n",
    "2) Download the content from the site using BeautifulSoup and requests\n",
    "3) Search for all images (using `images = document.find_all('img')`) and print out the content\n",
    "4) Include only images with the attribute `class_=\"mw-file-element\"` in your list of images.\n",
    "5) Print out a list of the value of the \"src\" attribute for the images in 4. \n",
    "6) See if you can display an image by pasting a result from 5 into your web-browser."
   ]
  },
  {
   "cell_type": "code",
   "execution_count": 42,
   "metadata": {},
   "outputs": [
    {
     "name": "stdout",
     "output_type": "stream",
     "text": [
      "<!DOCTYPE html>\n",
      "<html class=\"client-nojs vector-feature-language-in-header-enabled vector-feature-language-in-main-page-header-disabled vector-feature-sticky-header-disabled vector-feature-page-tools-pinned-disabled vector-feature-toc-pinned-clientpref-1 vector-feature-main-menu-pinned-disabled vector-feature-limited-width-clientpref-1 vector-feature-limited-width-content-enabled vector-feature-cu\n"
     ]
    }
   ],
   "source": [
    "r = requests.get(\"https://no.wikipedia.org/wiki/Universitetet_i_Oslo\")\n",
    "html = r.text\n",
    "print(html[:400])"
   ]
  },
  {
   "cell_type": "code",
   "execution_count": 43,
   "metadata": {},
   "outputs": [],
   "source": [
    "document = BeautifulSoup(html, \"html.parser\")"
   ]
  },
  {
   "cell_type": "code",
   "execution_count": 44,
   "metadata": {},
   "outputs": [
    {
     "data": {
      "text/plain": [
       "18"
      ]
     },
     "execution_count": 44,
     "metadata": {},
     "output_type": "execute_result"
    }
   ],
   "source": [
    "images = document.find_all(\"img\", class_=\"mw-file-element\")\n",
    "len(images)"
   ]
  },
  {
   "cell_type": "code",
   "execution_count": 45,
   "metadata": {},
   "outputs": [
    {
     "name": "stdout",
     "output_type": "stream",
     "text": [
      "//upload.wikimedia.org/wikipedia/commons/thumb/d/d2/Apollo_seal.svg/250px-Apollo_seal.svg.png\n",
      "//upload.wikimedia.org/wikipedia/commons/thumb/c/c4/The_University_of_Oslo.jpg/250px-The_University_of_Oslo.jpg\n",
      "//upload.wikimedia.org/wikipedia/commons/thumb/4/4f/Universitetsbiblioteket_Blindern.jpg/250px-Universitetsbiblioteket_Blindern.jpg\n",
      "//upload.wikimedia.org/wikipedia/commons/thumb/4/4c/Helga_Engs_hus_Blindern.jpg/250px-Helga_Engs_hus_Blindern.jpg\n",
      "//upload.wikimedia.org/wikipedia/commons/thumb/5/5d/Ragnar_Frischs_auditorium.JPG/250px-Ragnar_Frischs_auditorium.JPG\n",
      "//upload.wikimedia.org/wikipedia/commons/thumb/a/ae/Det_matematisk-naturvitenskapelige_fakultet_i_1861.png/250px-Det_matematisk-naturvitenskapelige_fakultet_i_1861.png\n",
      "//upload.wikimedia.org/wikipedia/commons/thumb/8/85/Nedre_Blindern_1955.jpg/250px-Nedre_Blindern_1955.jpg\n",
      "//upload.wikimedia.org/wikipedia/commons/thumb/d/d2/Apollo_seal.svg/190px-Apollo_seal.svg.png\n",
      "//upload.wikimedia.org/wikipedia/commons/thumb/d/d9/Universitetet_i_Oslo_sentrum.jpg/250px-Universitetet_i_Oslo_sentrum.jpg\n",
      "//upload.wikimedia.org/wikipedia/commons/thumb/b/bb/UiO_001.jpg/250px-UiO_001.jpg\n",
      "//upload.wikimedia.org/wikipedia/commons/thumb/4/4a/Air_blindern.jpg/250px-Air_blindern.jpg\n",
      "//upload.wikimedia.org/wikipedia/commons/thumb/e/e8/Universbib_blindern.jpg/250px-Universbib_blindern.jpg\n",
      "//upload.wikimedia.org/wikipedia/commons/thumb/3/30/UiO_006.jpg/250px-UiO_006.jpg\n",
      "//upload.wikimedia.org/wikipedia/commons/thumb/9/99/Question_book-new.svg/50px-Question_book-new.svg.png\n",
      "//upload.wikimedia.org/wikipedia/commons/thumb/0/0f/ChateauNeufOslo.jpg/250px-ChateauNeufOslo.jpg\n",
      "//upload.wikimedia.org/wikipedia/commons/thumb/8/8a/OOjs_UI_icon_edit-ltr-progressive.svg/10px-OOjs_UI_icon_edit-ltr-progressive.svg.png\n",
      "//upload.wikimedia.org/wikipedia/commons/thumb/8/8a/OOjs_UI_icon_edit-ltr-progressive.svg/10px-OOjs_UI_icon_edit-ltr-progressive.svg.png\n",
      "//upload.wikimedia.org/wikipedia/commons/thumb/8/8a/OOjs_UI_icon_edit-ltr-progressive.svg/10px-OOjs_UI_icon_edit-ltr-progressive.svg.png\n"
     ]
    }
   ],
   "source": [
    "for image in images:\n",
    "    print(image[\"src\"])"
   ]
  },
  {
   "cell_type": "code",
   "execution_count": 46,
   "metadata": {},
   "outputs": [],
   "source": [
    "from IPython.display import HTML, display"
   ]
  },
  {
   "cell_type": "code",
   "execution_count": 47,
   "metadata": {},
   "outputs": [
    {
     "data": {
      "text/html": [
       "<img src=\"https://upload.wikimedia.org/wikipedia/commons/thumb/d/d2/Apollo_seal.svg/250px-Apollo_seal.svg.png\">"
      ],
      "text/plain": [
       "<IPython.core.display.HTML object>"
      ]
     },
     "metadata": {},
     "output_type": "display_data"
    },
    {
     "data": {
      "text/html": [
       "<img src=\"https://upload.wikimedia.org/wikipedia/commons/thumb/c/c4/The_University_of_Oslo.jpg/250px-The_University_of_Oslo.jpg\">"
      ],
      "text/plain": [
       "<IPython.core.display.HTML object>"
      ]
     },
     "metadata": {},
     "output_type": "display_data"
    },
    {
     "data": {
      "text/html": [
       "<img src=\"https://upload.wikimedia.org/wikipedia/commons/thumb/4/4f/Universitetsbiblioteket_Blindern.jpg/250px-Universitetsbiblioteket_Blindern.jpg\">"
      ],
      "text/plain": [
       "<IPython.core.display.HTML object>"
      ]
     },
     "metadata": {},
     "output_type": "display_data"
    },
    {
     "data": {
      "text/html": [
       "<img src=\"https://upload.wikimedia.org/wikipedia/commons/thumb/4/4c/Helga_Engs_hus_Blindern.jpg/250px-Helga_Engs_hus_Blindern.jpg\">"
      ],
      "text/plain": [
       "<IPython.core.display.HTML object>"
      ]
     },
     "metadata": {},
     "output_type": "display_data"
    },
    {
     "data": {
      "text/html": [
       "<img src=\"https://upload.wikimedia.org/wikipedia/commons/thumb/5/5d/Ragnar_Frischs_auditorium.JPG/250px-Ragnar_Frischs_auditorium.JPG\">"
      ],
      "text/plain": [
       "<IPython.core.display.HTML object>"
      ]
     },
     "metadata": {},
     "output_type": "display_data"
    },
    {
     "data": {
      "text/html": [
       "<img src=\"https://upload.wikimedia.org/wikipedia/commons/thumb/a/ae/Det_matematisk-naturvitenskapelige_fakultet_i_1861.png/250px-Det_matematisk-naturvitenskapelige_fakultet_i_1861.png\">"
      ],
      "text/plain": [
       "<IPython.core.display.HTML object>"
      ]
     },
     "metadata": {},
     "output_type": "display_data"
    },
    {
     "data": {
      "text/html": [
       "<img src=\"https://upload.wikimedia.org/wikipedia/commons/thumb/8/85/Nedre_Blindern_1955.jpg/250px-Nedre_Blindern_1955.jpg\">"
      ],
      "text/plain": [
       "<IPython.core.display.HTML object>"
      ]
     },
     "metadata": {},
     "output_type": "display_data"
    },
    {
     "data": {
      "text/html": [
       "<img src=\"https://upload.wikimedia.org/wikipedia/commons/thumb/d/d2/Apollo_seal.svg/190px-Apollo_seal.svg.png\">"
      ],
      "text/plain": [
       "<IPython.core.display.HTML object>"
      ]
     },
     "metadata": {},
     "output_type": "display_data"
    },
    {
     "data": {
      "text/html": [
       "<img src=\"https://upload.wikimedia.org/wikipedia/commons/thumb/d/d9/Universitetet_i_Oslo_sentrum.jpg/250px-Universitetet_i_Oslo_sentrum.jpg\">"
      ],
      "text/plain": [
       "<IPython.core.display.HTML object>"
      ]
     },
     "metadata": {},
     "output_type": "display_data"
    },
    {
     "data": {
      "text/html": [
       "<img src=\"https://upload.wikimedia.org/wikipedia/commons/thumb/b/bb/UiO_001.jpg/250px-UiO_001.jpg\">"
      ],
      "text/plain": [
       "<IPython.core.display.HTML object>"
      ]
     },
     "metadata": {},
     "output_type": "display_data"
    },
    {
     "data": {
      "text/html": [
       "<img src=\"https://upload.wikimedia.org/wikipedia/commons/thumb/4/4a/Air_blindern.jpg/250px-Air_blindern.jpg\">"
      ],
      "text/plain": [
       "<IPython.core.display.HTML object>"
      ]
     },
     "metadata": {},
     "output_type": "display_data"
    },
    {
     "data": {
      "text/html": [
       "<img src=\"https://upload.wikimedia.org/wikipedia/commons/thumb/e/e8/Universbib_blindern.jpg/250px-Universbib_blindern.jpg\">"
      ],
      "text/plain": [
       "<IPython.core.display.HTML object>"
      ]
     },
     "metadata": {},
     "output_type": "display_data"
    },
    {
     "data": {
      "text/html": [
       "<img src=\"https://upload.wikimedia.org/wikipedia/commons/thumb/3/30/UiO_006.jpg/250px-UiO_006.jpg\">"
      ],
      "text/plain": [
       "<IPython.core.display.HTML object>"
      ]
     },
     "metadata": {},
     "output_type": "display_data"
    },
    {
     "data": {
      "text/html": [
       "<img src=\"https://upload.wikimedia.org/wikipedia/commons/thumb/9/99/Question_book-new.svg/50px-Question_book-new.svg.png\">"
      ],
      "text/plain": [
       "<IPython.core.display.HTML object>"
      ]
     },
     "metadata": {},
     "output_type": "display_data"
    },
    {
     "data": {
      "text/html": [
       "<img src=\"https://upload.wikimedia.org/wikipedia/commons/thumb/0/0f/ChateauNeufOslo.jpg/250px-ChateauNeufOslo.jpg\">"
      ],
      "text/plain": [
       "<IPython.core.display.HTML object>"
      ]
     },
     "metadata": {},
     "output_type": "display_data"
    },
    {
     "data": {
      "text/html": [
       "<img src=\"https://upload.wikimedia.org/wikipedia/commons/thumb/8/8a/OOjs_UI_icon_edit-ltr-progressive.svg/10px-OOjs_UI_icon_edit-ltr-progressive.svg.png\">"
      ],
      "text/plain": [
       "<IPython.core.display.HTML object>"
      ]
     },
     "metadata": {},
     "output_type": "display_data"
    },
    {
     "data": {
      "text/html": [
       "<img src=\"https://upload.wikimedia.org/wikipedia/commons/thumb/8/8a/OOjs_UI_icon_edit-ltr-progressive.svg/10px-OOjs_UI_icon_edit-ltr-progressive.svg.png\">"
      ],
      "text/plain": [
       "<IPython.core.display.HTML object>"
      ]
     },
     "metadata": {},
     "output_type": "display_data"
    },
    {
     "data": {
      "text/html": [
       "<img src=\"https://upload.wikimedia.org/wikipedia/commons/thumb/8/8a/OOjs_UI_icon_edit-ltr-progressive.svg/10px-OOjs_UI_icon_edit-ltr-progressive.svg.png\">"
      ],
      "text/plain": [
       "<IPython.core.display.HTML object>"
      ]
     },
     "metadata": {},
     "output_type": "display_data"
    }
   ],
   "source": [
    "for image in images:\n",
    "    url = image[\"src\"]\n",
    "    if \"://\" in url:\n",
    "        pass\n",
    "    elif url.startswith(\"//\"):\n",
    "        # add 'scheme' or 'protocol'\n",
    "        url = \"https:\" + url\n",
    "    elif url.startswith(\"/\"):\n",
    "        url = \"https://no.wikipedia.org\" + url\n",
    "    else:\n",
    "        # not an understood URL\n",
    "        raise ValueError(f\"I don't understand this url: {url}\")\n",
    "    html = HTML(f'<img src=\"{url}\">')\n",
    "    display(html)"
   ]
  }
 ],
 "metadata": {
  "celltoolbar": "Slideshow",
  "kernelspec": {
   "display_name": "Python 3 (ipykernel)",
   "language": "python",
   "name": "python3"
  },
  "language_info": {
   "codemirror_mode": {
    "name": "ipython",
    "version": 3
   },
   "file_extension": ".py",
   "mimetype": "text/x-python",
   "name": "python",
   "nbconvert_exporter": "python",
   "pygments_lexer": "ipython3",
   "version": "3.12.4"
  },
  "widgets": {
   "application/vnd.jupyter.widget-state+json": {
    "state": {},
    "version_major": 2,
    "version_minor": 0
   }
  }
 },
 "nbformat": 4,
 "nbformat_minor": 4
}
