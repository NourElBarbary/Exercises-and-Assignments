{
 "cells": [
  {
   "cell_type": "raw",
   "id": "16385365-d240-41f0-8014-6d3b1f927187",
   "metadata": {},
   "source": [
    "## Question 1:\n",
    "Write a Python function called greet_user that takes two parameters: name (a string representing the user's name) and greeting (a string representing a greeting message). The function should print the personalized greeting message. If the greeting parameter is not provided, the function should use \"Hello\" as the default greeting.\n",
    "\n",
    "Expected Output:\n",
    "\n",
    "If the user's name is \"Alice\" and no specific greeting is provided, the function should print \"Hello, Alice!\".\n",
    "\n",
    "Please write the Python code for the greet_user function and demonstrate its usage with different examples, both with and without a specific greeting"
   ]
  },
  {
   "cell_type": "code",
   "execution_count": 1,
   "id": "b692411b",
   "metadata": {},
   "outputs": [
    {
     "name": "stdout",
     "output_type": "stream",
     "text": [
      "Hello , Alice!\n"
     ]
    }
   ],
   "source": [
    "def greet_user (user_name , greeting_msg = 'Hello' ):\n",
    "    print(f\"{greeting_msg} , {user_name}!\" )\n",
    "greet_user(\"Alice\")\n"
   ]
  },
  {
   "cell_type": "code",
   "execution_count": 2,
   "id": "eb261e04-d48f-4634-b03b-8a478126db5a",
   "metadata": {},
   "outputs": [
    {
     "name": "stdout",
     "output_type": "stream",
     "text": [
      "Hi , Alice!\n",
      "Good morning , Bob!\n",
      "Welcome , Charlie!\n"
     ]
    }
   ],
   "source": [
    "greet_user(\"Alice\", \"Hi\")\n",
    "greet_user(\"Bob\", \"Good morning\")\n",
    "greet_user(\"Charlie\", \"Welcome\")"
   ]
  },
  {
   "cell_type": "markdown",
   "id": "43a5f688",
   "metadata": {},
   "source": [
    "## Question 2:\n",
    "Write a Python program that takes two tuples as input, each containing integers, and returns a new tuple containing the element-wise sum of the corresponding elements from the input tuples. Assume the input tuples have the same length.\n",
    "\n",
    "Expected Output:\n",
    "\n",
    "If the input tuples are (1, 2, 3) and (4, 5, 6), the program should return (5, 7, 9).\n",
    "Please write the Python code to accomplish this task."
   ]
  },
  {
   "cell_type": "code",
   "execution_count": 3,
   "id": "f2e4bd5e",
   "metadata": {},
   "outputs": [],
   "source": [
    "def tuple_elementwise_sum(tupleA, tupleB):\n",
    "    return tuple(a + b for a, b in zip(tupleA, tupleB))\n",
    "    "
   ]
  },
  {
   "cell_type": "code",
   "execution_count": 4,
   "id": "f6a291f7-8a4a-4a6f-b1df-e3ed7f99d44a",
   "metadata": {},
   "outputs": [
    {
     "name": "stdout",
     "output_type": "stream",
     "text": [
      "Result: (5, 7, 9)\n"
     ]
    }
   ],
   "source": [
    "tupleA = (1, 2, 3)\n",
    "tupleB = (4, 5, 6)\n",
    "result = tuple_elementwise_sum(tupleA, tupleB)\n",
    "print(\"Result:\", result)"
   ]
  },
  {
   "cell_type": "markdown",
   "id": "eb50ce3a",
   "metadata": {},
   "source": [
    "## Question 3:\n",
    "Write a Python program that prompts the user to guess a secret number between 1 and 10. The program should continue to prompt the user for guesses until they correctly guess the secret number. Provide feedback to the user if their guess is too high or too low.\n",
    "\n",
    "Expected Output:\n",
    "\n",
    "If the secret number is 7 and the user's guesses are 5, 8, 7, the program should print:\n",
    "\n",
    "\"Too low! Try again.\"\n",
    "\n",
    "\"Too high! Try again.\"\n",
    "\n",
    "\"Congratulations! You guessed the secret number 7.\"\n",
    "\n",
    "Please write the Python code for this guessing game using a while loop."
   ]
  },
  {
   "cell_type": "code",
   "execution_count": 6,
   "id": "227d8033",
   "metadata": {},
   "outputs": [
    {
     "name": "stdout",
     "output_type": "stream",
     "text": [
      "Guess the secret number between 1 and 10!\n"
     ]
    },
    {
     "name": "stdin",
     "output_type": "stream",
     "text": [
      "Enter your guess:  3\n"
     ]
    },
    {
     "name": "stdout",
     "output_type": "stream",
     "text": [
      "Congratulations! You guessed the secret number 3.\n",
      "Game over. Thanks for playing!\n"
     ]
    }
   ],
   "source": [
    "# Generate a secret number between 1 and 10\n",
    "import random\n",
    "secret = random.randint(1, 10)\n",
    "\n",
    "# Initialize the user's guess to an invalid value\n",
    "guess = None\n",
    "\n",
    "# Prompt the user to guess the secret number\n",
    "print(\"Guess the secret number between 1 and 10!\")\n",
    "\n",
    "while guess != secret:\n",
    "    try:\n",
    "        guess = int(input(\"Enter your guess: \"))\n",
    "        if guess < secret:\n",
    "            print(\"Too low! Try again.\")\n",
    "        elif guess > secret:\n",
    "            print(\"Too high! Try again.\")\n",
    "        else:\n",
    "            print(f\"Congratulations! You guessed the secret number {secret}.\")\n",
    "    except ValueError:\n",
    "        print(\"Invalid input. Please enter an integer between 1 and 10.\")\n",
    "\n",
    "# End of the game\n",
    "print(\"Game over. Thanks for playing!\")"
   ]
  },
  {
   "cell_type": "markdown",
   "id": "e3c169ff",
   "metadata": {},
   "source": [
    "## Question 4:\n",
    "Write a Python program that takes a list of words as input and creates a dictionary where the keys are the unique words in the list, and the values are lists containing the indices (positions) at which each word appears in the list.\n",
    "\n",
    "Expected Output:\n",
    "\n",
    "If the input list is [\"apple\", \"banana\", \"orange\", \"banana\", \"kiwi\", \"apple\"], the program should return {'apple': [0,5], 'banana': [1,3], 'orange': [2], 'kiwi': [4]}.\n",
    "Please write the Python code to accomplish this task."
   ]
  },
  {
   "cell_type": "code",
   "execution_count": 2,
   "id": "e3d64d4a",
   "metadata": {},
   "outputs": [
    {
     "name": "stdout",
     "output_type": "stream",
     "text": [
      "Result: {'apple': [0, 5], 'banana': [1, 3], 'orange': [2], 'kiwi': [4]}\n"
     ]
    }
   ],
   "source": [
    "# Take a list of words as input\n",
    "def word_place(words):\n",
    "    place_word = {}\n",
    "    for i , word in enumerate(words):\n",
    "        if word not in place_word:\n",
    "            place_word[word] = []\n",
    "        place_word[word].append(i)\n",
    "    return place_word\n",
    "\n",
    "\n",
    "# Create a dictionary with word indices \n",
    "input_list = [\"apple\", \"banana\", \"orange\", \"banana\", \"kiwi\", \"apple\"]\n",
    "\n",
    "# Print the resulting dictionary\n",
    "result = word_place(input_list)\n",
    "print(\"Result:\", result)\n"
   ]
  }
 ],
 "metadata": {
  "kernelspec": {
   "display_name": "Python 3 (ipykernel)",
   "language": "python",
   "name": "python3"
  },
  "language_info": {
   "codemirror_mode": {
    "name": "ipython",
    "version": 3
   },
   "file_extension": ".py",
   "mimetype": "text/x-python",
   "name": "python",
   "nbconvert_exporter": "python",
   "pygments_lexer": "ipython3",
   "version": "3.12.4"
  }
 },
 "nbformat": 4,
 "nbformat_minor": 5
}
